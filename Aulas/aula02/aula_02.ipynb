{
  "metadata": {
    "language_info": {
      "codemirror_mode": {
        "name": "python",
        "version": 3
      },
      "file_extension": ".py",
      "mimetype": "text/x-python",
      "name": "python",
      "nbconvert_exporter": "python",
      "pygments_lexer": "ipython3",
      "version": "3.8"
    },
    "kernelspec": {
      "name": "python",
      "display_name": "Python (Pyodide)",
      "language": "python"
    }
  },
  "nbformat_minor": 4,
  "nbformat": 4,
  "cells": [
    {
      "cell_type": "markdown",
      "source": "01 - Crie um programa que some dois valores e se for maior que cinco retorne \"maior\" caso contrario \"menor\":",
      "metadata": {}
    },
    {
      "cell_type": "code",
      "source": "x = 2\ny = 3\n\nres = (x+y)\n\nif(res<=5):\n    print(\"menor\")\nelse:\n    print(\"maior\")",
      "metadata": {
        "trusted": true
      },
      "execution_count": 3,
      "outputs": [
        {
          "name": "stdout",
          "text": "menor\n",
          "output_type": "stream"
        }
      ]
    },
    {
      "cell_type": "markdown",
      "source": "02 - Crie um programa que some dois valores e se for maior que cinco retorne \"maior\", caso igual retorne \"igual\" e caso menor retorne \"menor\"",
      "metadata": {}
    },
    {
      "cell_type": "code",
      "source": "x = 1\ny = 2\n\nres = (x+y)\n\nif(res<5):\n    print(\"menor\")\nelse:\n    if(res==5):\n        print(\"igual\")\n    else:\n        print(\"maior\")",
      "metadata": {
        "trusted": true
      },
      "execution_count": 6,
      "outputs": [
        {
          "name": "stdout",
          "text": "menor\n",
          "output_type": "stream"
        }
      ]
    },
    {
      "cell_type": "code",
      "source": "",
      "metadata": {},
      "execution_count": null,
      "outputs": []
    }
  ]
}