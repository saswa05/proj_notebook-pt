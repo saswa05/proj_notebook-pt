{
  "metadata": {
    "language_info": {
      "codemirror_mode": {
        "name": "python",
        "version": 3
      },
      "file_extension": ".py",
      "mimetype": "text/x-python",
      "name": "python",
      "nbconvert_exporter": "python",
      "pygments_lexer": "ipython3",
      "version": "3.8"
    },
    "kernelspec": {
      "name": "python",
      "display_name": "Python (Pyodide)",
      "language": "python"
    }
  },
  "nbformat_minor": 4,
  "nbformat": 4,
  "cells": [
    {
      "cell_type": "markdown",
      "source": "01- Crie um programa que conte de zero até cinco",
      "metadata": {}
    },
    {
      "cell_type": "code",
      "source": "x = 0\nwhile (x<=5) :\n    print(x)\n    x += 1",
      "metadata": {
        "trusted": true
      },
      "execution_count": 1,
      "outputs": [
        {
          "name": "stdout",
          "text": "0\n1\n2\n3\n4\n5\n",
          "output_type": "stream"
        }
      ]
    },
    {
      "cell_type": "markdown",
      "source": "02- Crie uma lista com cinco nomes e mostre cada um e seus respectivos números",
      "metadata": {}
    },
    {
      "cell_type": "code",
      "source": "nome = []\nnome=[\n    \"Heloisa\",\n    \"Takeshi\",\n    \"Christopher\",\n    \"Harvey\",\n    \"Max\",]\nx=0\nwhile(x<=4):\n    print(x,nome[x])\n    x += 1\n\n",
      "metadata": {
        "trusted": true
      },
      "execution_count": 3,
      "outputs": [
        {
          "name": "stdout",
          "text": "0 Heloisa\n1 Takeshi\n2 Christopher\n3 Harvey\n4 Max\n",
          "output_type": "stream"
        }
      ]
    },
    {
      "cell_type": "markdown",
      "source": "03- Crie uma lista com cinco nomes e organize de modo alfabetico, mostrando os seus respectivos números",
      "metadata": {}
    },
    {
      "cell_type": "code",
      "source": "nome = []\nnome=[\n    \"Heloisa\",\n    \"Takeshi\",\n    \"Christopher\",\n    \"Harvey\",\n    \"Max\",]\nnome.sort()\nx=0\nwhile(x<=4):\n    print(x,nome[x])\n    x += 1\n",
      "metadata": {
        "trusted": true
      },
      "execution_count": 5,
      "outputs": [
        {
          "name": "stdout",
          "text": "0 Christopher\n1 Harvey\n2 Heloisa\n3 Max\n4 Takeshi\n",
          "output_type": "stream"
        }
      ]
    },
    {
      "cell_type": "code",
      "source": "",
      "metadata": {},
      "execution_count": null,
      "outputs": []
    }
  ]
}