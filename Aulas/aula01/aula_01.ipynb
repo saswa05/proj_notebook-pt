{
  "metadata": {
    "kernelspec": {
      "name": "python",
      "display_name": "Python (Pyodide)",
      "language": "python"
    },
    "language_info": {
      "codemirror_mode": {
        "name": "python",
        "version": 3
      },
      "file_extension": ".py",
      "mimetype": "text/x-python",
      "name": "python",
      "nbconvert_exporter": "python",
      "pygments_lexer": "ipython3",
      "version": "3.8"
    }
  },
  "nbformat_minor": 5,
  "nbformat": 4,
  "cells": [
    {
      "cell_type": "markdown",
      "source": "01 - Crie um programa que receba dois valores e retorne a soma:",
      "metadata": {},
      "id": "a814a2be-55c2-4ba8-bc32-b362e75d786d"
    },
    {
      "cell_type": "code",
      "source": "x = 2\ny = 2\nres = (x+y)\n\nprint(res)",
      "metadata": {
        "trusted": true
      },
      "execution_count": 1,
      "outputs": [
        {
          "name": "stdout",
          "text": "4\n",
          "output_type": "stream"
        }
      ],
      "id": "eead65f8-6bbe-49ae-a950-ee936dbffd95"
    },
    {
      "cell_type": "markdown",
      "source": "02 - Crie um programa que receba dois valores e retorne a multiplicação:",
      "metadata": {},
      "id": "2c529357-acaa-478f-8f9e-df22c8acc24a"
    },
    {
      "cell_type": "code",
      "source": "x = 2\ny = 3\nres = (x*y)\n\nprint(res)",
      "metadata": {
        "trusted": true
      },
      "execution_count": 2,
      "outputs": [
        {
          "name": "stdout",
          "text": "6\n",
          "output_type": "stream"
        }
      ],
      "id": "cbdff729-1922-4d4b-b076-24f0dfe9d21f"
    },
    {
      "cell_type": "code",
      "source": "",
      "metadata": {},
      "execution_count": null,
      "outputs": [],
      "id": "7972b7f4-44f9-46a4-a0d1-ba044ccce75e"
    }
  ]
}